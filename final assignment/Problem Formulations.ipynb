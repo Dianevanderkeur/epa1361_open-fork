{
 "cells": [
  {
   "cell_type": "code",
   "execution_count": null,
   "metadata": {
    "is_executing": true
   },
   "outputs": [],
   "source": [
    "import numpy as np\n",
    "import scipy as sp\n",
    "import pandas as pd\n",
    "import matplotlib.pyplot as plt\n",
    "import seaborn as sns\n",
    "import networkx as nx\n",
    "from ema_workbench.util import utilities"
   ]
  },
  {
   "cell_type": "code",
   "execution_count": null,
   "metadata": {
    "is_executing": true
   },
   "outputs": [],
   "source": [
    "# make sure pandas is version 1.0 or higher\n",
    "# make sure networkx is verion 2.4 or higher\n",
    "print(pd.__version__)\n",
    "print(nx.__version__)"
   ]
  },
  {
   "cell_type": "code",
   "execution_count": null,
   "metadata": {
    "scrolled": true,
    "is_executing": true
   },
   "outputs": [],
   "source": [
    "from ema_workbench import (Model, Policy, ema_logging, SequentialEvaluator, MultiprocessingEvaluator, CategoricalParameter,\n",
    "                           ScalarOutcome, IntegerParameter, RealParameter, Scenario, perform_experiments)\n",
    "from problem_formulation import get_model_for_problem_formulation, sum_over, sum_over_time\n",
    "import time\n",
    "from dike_model_function import DikeNetwork\n"
   ]
  },
  {
   "cell_type": "code",
   "execution_count": null,
   "metadata": {
    "is_executing": true
   },
   "outputs": [],
   "source": [
    "ema_logging.log_to_stderr(ema_logging.INFO)\n",
    "\n",
    "# choose problem formulation number, between 0-5\n",
    "# each problem formulation has its own list of outcomes\n",
    "dike_model, planning_steps = get_model_for_problem_formulation(3)"
   ]
  },
  {
   "cell_type": "code",
   "execution_count": null,
   "metadata": {
    "is_executing": true
   },
   "outputs": [],
   "source": [
    "# enlisting uncertainties, their types (RealParameter/IntegerParameter/CategoricalParameter), lower boundary, and upper boundary\n",
    "import copy\n",
    "\n",
    "for unc in dike_model.uncertainties:\n",
    "    print(repr(unc))\n",
    "\n",
    "uncertainties = copy.deepcopy(dike_model.uncertainties)"
   ]
  },
  {
   "cell_type": "code",
   "execution_count": null,
   "metadata": {
    "is_executing": true
   },
   "outputs": [],
   "source": [
    "# enlisting policy levers, their types (RealParameter/IntegerParameter), lower boundary, and upper boundary\n",
    "for policy in dike_model.levers:\n",
    "    print(repr(policy))\n",
    "\n",
    "levers = copy.deepcopy(dike_model.levers)"
   ]
  },
  {
   "cell_type": "code",
   "execution_count": null,
   "metadata": {
    "is_executing": true
   },
   "outputs": [],
   "source": [
    "# enlisting outcomes\n",
    "for outcome in dike_model.outcomes:\n",
    "    print(repr(outcome))"
   ]
  },
  {
   "cell_type": "code",
   "execution_count": null,
   "metadata": {
    "is_executing": true
   },
   "outputs": [],
   "source": [
    "# running the model through EMA workbench\n",
    "with MultiprocessingEvaluator(dike_model) as evaluator:\n",
    "    results = evaluator.perform_experiments(scenarios=50)\n",
    "\n",
    "print(type(results))\n"
   ]
  },
  {
   "cell_type": "markdown",
   "source": [
    "\n",
    "Eens kijken of het lukt om het te printen naar csv"
   ],
   "metadata": {
    "collapsed": false
   }
  },
  {
   "cell_type": "code",
   "execution_count": 12,
   "outputs": [
    {
     "name": "stdout",
     "output_type": "stream",
     "text": [
      "   Result\n",
      "0       1\n",
      "1       3\n",
      "2       4\n",
      "3       5\n"
     ]
    }
   ],
   "source": [
    "\n",
    "import pandas as pd\n",
    "\n",
    "results_df = {1,3,4,5}\n",
    "results_pdf = pd.DataFrame(results_df, columns=['Result'])\n",
    "\n",
    "print(results_pdf)\n",
    "\n",
    "#results_pdf.to_csv('.../results/outcomes_sc50p4.csv', index=False)\n"
   ],
   "metadata": {
    "collapsed": false,
    "ExecuteTime": {
     "end_time": "2023-06-05T09:23:55.813634600Z",
     "start_time": "2023-06-05T09:23:55.786609900Z"
    }
   }
  },
  {
   "cell_type": "code",
   "execution_count": 16,
   "metadata": {
    "scrolled": true,
    "ExecuteTime": {
     "end_time": "2023-06-05T09:28:31.800878400Z",
     "start_time": "2023-06-05T09:28:31.766219300Z"
    }
   },
   "outputs": [
    {
     "name": "stdout",
     "output_type": "stream",
     "text": [
      "dict_keys(['A.1 Total Costs', 'A.1_Expected Number of Deaths', 'A.2 Total Costs', 'A.2_Expected Number of Deaths', 'A.3 Total Costs', 'A.3_Expected Number of Deaths', 'A.4 Total Costs', 'A.4_Expected Number of Deaths', 'A.5 Total Costs', 'A.5_Expected Number of Deaths', 'RfR Total Costs', 'Expected Evacuation Costs'])\n"
     ]
    },
    {
     "data": {
      "text/plain": "     A.0_ID flood wave shape    A.1_Bmax A.1_Brate  A.1_pfail    A.2_Bmax   \n0                        132   35.599943      10.0   0.286387  267.396662  \\\n1                        108  170.028884      10.0   0.657695   99.974343   \n2                         56  260.709422       1.0   0.488375  210.920666   \n3                        118  286.952153      10.0   0.166473  123.363736   \n4                         49  319.481327       1.0   0.455978  222.567576   \n..                       ...         ...       ...        ...         ...   \n195                      101  273.533061       1.0   0.727535  326.771505   \n196                       63  244.915954       1.0   0.970451  142.852279   \n197                      124  180.121381       1.0   0.983615  253.931394   \n198                       76  216.639460      10.0   0.753239  230.664161   \n199                       27  316.536898      10.0   0.212717   31.414310   \n\n    A.2_Brate  A.2_pfail    A.3_Bmax A.3_Brate  A.3_pfail  ...   \n0        10.0   0.553073   83.293425       1.0   0.230423  ...  \\\n1         1.0   0.223887   80.491734      10.0   0.802576  ...   \n2         1.0   0.175170  265.901611       1.5   0.487010  ...   \n3        10.0   0.249204   39.183187       1.5   0.536458  ...   \n4         1.5   0.849501  332.366223       1.0   0.675901  ...   \n..        ...        ...         ...       ...        ...  ...   \n195       1.5   0.497850  231.884047       1.0   0.656247  ...   \n196       1.0   0.069853  190.782997       1.0   0.975088  ...   \n197      10.0   0.023342  128.303117      10.0   0.305256  ...   \n198       1.0   0.743879  250.941598       1.0   0.911945  ...   \n199       1.5   0.377851  173.731370      10.0   0.378395  ...   \n\n     A.4_DikeIncrease 0 A.4_DikeIncrease 1  A.4_DikeIncrease 2   \n0                     3                  5                   0  \\\n1                     3                  5                   0   \n2                     3                  5                   0   \n3                     3                  5                   0   \n4                     3                  5                   0   \n..                  ...                ...                 ...   \n195                   9                  1                   9   \n196                   9                  1                   9   \n197                   9                  1                   9   \n198                   9                  1                   9   \n199                   9                  1                   9   \n\n     A.5_DikeIncrease 0 A.5_DikeIncrease 1  A.5_DikeIncrease 2   \n0                     1                  5                   2  \\\n1                     1                  5                   2   \n2                     1                  5                   2   \n3                     1                  5                   2   \n4                     1                  5                   2   \n..                  ...                ...                 ...   \n195                   4                  1                   6   \n196                   4                  1                   6   \n197                   4                  1                   6   \n198                   4                  1                   6   \n199                   4                  1                   6   \n\n    EWS_DaysToThreat scenario policy     model  \n0                  3        4      0  dikesnet  \n1                  3        5      0  dikesnet  \n2                  3        6      0  dikesnet  \n3                  3        7      0  dikesnet  \n4                  3        8      0  dikesnet  \n..               ...      ...    ...       ...  \n195                2       49      3  dikesnet  \n196                2       50      3  dikesnet  \n197                2       51      3  dikesnet  \n198                2       52      3  dikesnet  \n199                2       53      3  dikesnet  \n\n[200 rows x 53 columns]",
      "text/html": "<div>\n<style scoped>\n    .dataframe tbody tr th:only-of-type {\n        vertical-align: middle;\n    }\n\n    .dataframe tbody tr th {\n        vertical-align: top;\n    }\n\n    .dataframe thead th {\n        text-align: right;\n    }\n</style>\n<table border=\"1\" class=\"dataframe\">\n  <thead>\n    <tr style=\"text-align: right;\">\n      <th></th>\n      <th>A.0_ID flood wave shape</th>\n      <th>A.1_Bmax</th>\n      <th>A.1_Brate</th>\n      <th>A.1_pfail</th>\n      <th>A.2_Bmax</th>\n      <th>A.2_Brate</th>\n      <th>A.2_pfail</th>\n      <th>A.3_Bmax</th>\n      <th>A.3_Brate</th>\n      <th>A.3_pfail</th>\n      <th>...</th>\n      <th>A.4_DikeIncrease 0</th>\n      <th>A.4_DikeIncrease 1</th>\n      <th>A.4_DikeIncrease 2</th>\n      <th>A.5_DikeIncrease 0</th>\n      <th>A.5_DikeIncrease 1</th>\n      <th>A.5_DikeIncrease 2</th>\n      <th>EWS_DaysToThreat</th>\n      <th>scenario</th>\n      <th>policy</th>\n      <th>model</th>\n    </tr>\n  </thead>\n  <tbody>\n    <tr>\n      <th>0</th>\n      <td>132</td>\n      <td>35.599943</td>\n      <td>10.0</td>\n      <td>0.286387</td>\n      <td>267.396662</td>\n      <td>10.0</td>\n      <td>0.553073</td>\n      <td>83.293425</td>\n      <td>1.0</td>\n      <td>0.230423</td>\n      <td>...</td>\n      <td>3</td>\n      <td>5</td>\n      <td>0</td>\n      <td>1</td>\n      <td>5</td>\n      <td>2</td>\n      <td>3</td>\n      <td>4</td>\n      <td>0</td>\n      <td>dikesnet</td>\n    </tr>\n    <tr>\n      <th>1</th>\n      <td>108</td>\n      <td>170.028884</td>\n      <td>10.0</td>\n      <td>0.657695</td>\n      <td>99.974343</td>\n      <td>1.0</td>\n      <td>0.223887</td>\n      <td>80.491734</td>\n      <td>10.0</td>\n      <td>0.802576</td>\n      <td>...</td>\n      <td>3</td>\n      <td>5</td>\n      <td>0</td>\n      <td>1</td>\n      <td>5</td>\n      <td>2</td>\n      <td>3</td>\n      <td>5</td>\n      <td>0</td>\n      <td>dikesnet</td>\n    </tr>\n    <tr>\n      <th>2</th>\n      <td>56</td>\n      <td>260.709422</td>\n      <td>1.0</td>\n      <td>0.488375</td>\n      <td>210.920666</td>\n      <td>1.0</td>\n      <td>0.175170</td>\n      <td>265.901611</td>\n      <td>1.5</td>\n      <td>0.487010</td>\n      <td>...</td>\n      <td>3</td>\n      <td>5</td>\n      <td>0</td>\n      <td>1</td>\n      <td>5</td>\n      <td>2</td>\n      <td>3</td>\n      <td>6</td>\n      <td>0</td>\n      <td>dikesnet</td>\n    </tr>\n    <tr>\n      <th>3</th>\n      <td>118</td>\n      <td>286.952153</td>\n      <td>10.0</td>\n      <td>0.166473</td>\n      <td>123.363736</td>\n      <td>10.0</td>\n      <td>0.249204</td>\n      <td>39.183187</td>\n      <td>1.5</td>\n      <td>0.536458</td>\n      <td>...</td>\n      <td>3</td>\n      <td>5</td>\n      <td>0</td>\n      <td>1</td>\n      <td>5</td>\n      <td>2</td>\n      <td>3</td>\n      <td>7</td>\n      <td>0</td>\n      <td>dikesnet</td>\n    </tr>\n    <tr>\n      <th>4</th>\n      <td>49</td>\n      <td>319.481327</td>\n      <td>1.0</td>\n      <td>0.455978</td>\n      <td>222.567576</td>\n      <td>1.5</td>\n      <td>0.849501</td>\n      <td>332.366223</td>\n      <td>1.0</td>\n      <td>0.675901</td>\n      <td>...</td>\n      <td>3</td>\n      <td>5</td>\n      <td>0</td>\n      <td>1</td>\n      <td>5</td>\n      <td>2</td>\n      <td>3</td>\n      <td>8</td>\n      <td>0</td>\n      <td>dikesnet</td>\n    </tr>\n    <tr>\n      <th>...</th>\n      <td>...</td>\n      <td>...</td>\n      <td>...</td>\n      <td>...</td>\n      <td>...</td>\n      <td>...</td>\n      <td>...</td>\n      <td>...</td>\n      <td>...</td>\n      <td>...</td>\n      <td>...</td>\n      <td>...</td>\n      <td>...</td>\n      <td>...</td>\n      <td>...</td>\n      <td>...</td>\n      <td>...</td>\n      <td>...</td>\n      <td>...</td>\n      <td>...</td>\n      <td>...</td>\n    </tr>\n    <tr>\n      <th>195</th>\n      <td>101</td>\n      <td>273.533061</td>\n      <td>1.0</td>\n      <td>0.727535</td>\n      <td>326.771505</td>\n      <td>1.5</td>\n      <td>0.497850</td>\n      <td>231.884047</td>\n      <td>1.0</td>\n      <td>0.656247</td>\n      <td>...</td>\n      <td>9</td>\n      <td>1</td>\n      <td>9</td>\n      <td>4</td>\n      <td>1</td>\n      <td>6</td>\n      <td>2</td>\n      <td>49</td>\n      <td>3</td>\n      <td>dikesnet</td>\n    </tr>\n    <tr>\n      <th>196</th>\n      <td>63</td>\n      <td>244.915954</td>\n      <td>1.0</td>\n      <td>0.970451</td>\n      <td>142.852279</td>\n      <td>1.0</td>\n      <td>0.069853</td>\n      <td>190.782997</td>\n      <td>1.0</td>\n      <td>0.975088</td>\n      <td>...</td>\n      <td>9</td>\n      <td>1</td>\n      <td>9</td>\n      <td>4</td>\n      <td>1</td>\n      <td>6</td>\n      <td>2</td>\n      <td>50</td>\n      <td>3</td>\n      <td>dikesnet</td>\n    </tr>\n    <tr>\n      <th>197</th>\n      <td>124</td>\n      <td>180.121381</td>\n      <td>1.0</td>\n      <td>0.983615</td>\n      <td>253.931394</td>\n      <td>10.0</td>\n      <td>0.023342</td>\n      <td>128.303117</td>\n      <td>10.0</td>\n      <td>0.305256</td>\n      <td>...</td>\n      <td>9</td>\n      <td>1</td>\n      <td>9</td>\n      <td>4</td>\n      <td>1</td>\n      <td>6</td>\n      <td>2</td>\n      <td>51</td>\n      <td>3</td>\n      <td>dikesnet</td>\n    </tr>\n    <tr>\n      <th>198</th>\n      <td>76</td>\n      <td>216.639460</td>\n      <td>10.0</td>\n      <td>0.753239</td>\n      <td>230.664161</td>\n      <td>1.0</td>\n      <td>0.743879</td>\n      <td>250.941598</td>\n      <td>1.0</td>\n      <td>0.911945</td>\n      <td>...</td>\n      <td>9</td>\n      <td>1</td>\n      <td>9</td>\n      <td>4</td>\n      <td>1</td>\n      <td>6</td>\n      <td>2</td>\n      <td>52</td>\n      <td>3</td>\n      <td>dikesnet</td>\n    </tr>\n    <tr>\n      <th>199</th>\n      <td>27</td>\n      <td>316.536898</td>\n      <td>10.0</td>\n      <td>0.212717</td>\n      <td>31.414310</td>\n      <td>1.5</td>\n      <td>0.377851</td>\n      <td>173.731370</td>\n      <td>10.0</td>\n      <td>0.378395</td>\n      <td>...</td>\n      <td>9</td>\n      <td>1</td>\n      <td>9</td>\n      <td>4</td>\n      <td>1</td>\n      <td>6</td>\n      <td>2</td>\n      <td>53</td>\n      <td>3</td>\n      <td>dikesnet</td>\n    </tr>\n  </tbody>\n</table>\n<p>200 rows × 53 columns</p>\n</div>"
     },
     "execution_count": 16,
     "metadata": {},
     "output_type": "execute_result"
    }
   ],
   "source": [
    "# observing the simulation runs\n",
    "experiments, outcomes = results\n",
    "print(outcomes.keys())\n",
    "\n",
    "experiments"
   ]
  },
  {
   "cell_type": "code",
   "execution_count": 14,
   "outputs": [
    {
     "ename": "AttributeError",
     "evalue": "'function' object has no attribute 'legend_elements'",
     "output_type": "error",
     "traceback": [
      "\u001B[1;31m---------------------------------------------------------------------------\u001B[0m",
      "\u001B[1;31mAttributeError\u001B[0m                            Traceback (most recent call last)",
      "Cell \u001B[1;32mIn[14], line 11\u001B[0m\n\u001B[0;32m      8\u001B[0m unique_policies \u001B[38;5;241m=\u001B[39m experiments\u001B[38;5;241m.\u001B[39mpolicy\u001B[38;5;241m.\u001B[39munique()\n\u001B[0;32m      9\u001B[0m labels \u001B[38;5;241m=\u001B[39m [\u001B[38;5;124mf\u001B[39m\u001B[38;5;124m'\u001B[39m\u001B[38;5;124mPolicy \u001B[39m\u001B[38;5;132;01m{\u001B[39;00mpolicy\u001B[38;5;132;01m}\u001B[39;00m\u001B[38;5;124m'\u001B[39m \u001B[38;5;28;01mfor\u001B[39;00m policy \u001B[38;5;129;01min\u001B[39;00m unique_policies]\n\u001B[1;32m---> 11\u001B[0m legend \u001B[38;5;241m=\u001B[39m axs\u001B[38;5;241m.\u001B[39mlegend(\u001B[38;5;241m*\u001B[39m\u001B[43mplt\u001B[49m\u001B[38;5;241;43m.\u001B[39;49m\u001B[43mscatter\u001B[49m\u001B[38;5;241;43m.\u001B[39;49m\u001B[43mlegend_elements\u001B[49m(), labels\u001B[38;5;241m=\u001B[39mlabels, title\u001B[38;5;241m=\u001B[39m\u001B[38;5;124m'\u001B[39m\u001B[38;5;124mPolicies\u001B[39m\u001B[38;5;124m'\u001B[39m)\n\u001B[0;32m     13\u001B[0m plt\u001B[38;5;241m.\u001B[39mshow()\n",
      "\u001B[1;31mAttributeError\u001B[0m: 'function' object has no attribute 'legend_elements'"
     ]
    },
    {
     "data": {
      "text/plain": "<Figure size 500x500 with 1 Axes>",
      "image/png": "[encoded data removed]"
     },
     "metadata": {},
     "output_type": "display_data"
    }
   ],
   "source": [
    "\n",
    "## Jeanine code scatterplot\n",
    "fig, axs = plt.subplots(1, figsize=(5, 5))\n",
    "\n",
    "axs.set_ylabel('A.5_Expected Number of Deaths')\n",
    "axs.set_xlabel('A.5 Total Costs')\n",
    "axs.scatter(outcomes['A.5 Total Costs'], outcomes['A.5_Expected Number of Deaths'], c=experiments.policy)\n",
    "\n",
    "unique_policies = experiments.policy.unique()\n",
    "labels = [f'Policy {policy}' for policy in unique_policies]\n",
    "\n",
    "legend = axs.legend(*plt.scatter.legend_elements(), labels=labels, title='Policies')\n",
    "\n",
    "plt.show()"
   ],
   "metadata": {
    "collapsed": false,
    "ExecuteTime": {
     "end_time": "2023-06-05T09:24:20.640660400Z",
     "start_time": "2023-06-05T09:24:20.298218200Z"
    }
   }
  },
  {
   "cell_type": "code",
   "execution_count": 17,
   "outputs": [],
   "source": [
    "sns.pairplot(pd.DataFrame.from_dict(outcomes))\n",
    "plt.show()"
   ],
   "metadata": {
    "collapsed": false,
    "ExecuteTime": {
     "end_time": "2023-06-05T10:12:43.411395700Z",
     "start_time": "2023-06-05T10:12:13.227202400Z"
    }
   }
  },
  {
   "cell_type": "code",
   "execution_count": 15,
   "outputs": [
    {
     "data": {
      "text/plain": "     A.0_ID flood wave shape    A.1_Bmax A.1_Brate  A.1_pfail    A.2_Bmax   \n181                      128  175.917571       1.5   0.934954  193.015477  \\\n\n    A.2_Brate  A.2_pfail   A.3_Bmax A.3_Brate  A.3_pfail  ...   \n181       1.0   0.046922  344.48866      10.0    0.26959  ...  \\\n\n     A.4_DikeIncrease 0 A.4_DikeIncrease 1  A.4_DikeIncrease 2   \n181                   9                  1                   9  \\\n\n     A.5_DikeIncrease 0 A.5_DikeIncrease 1  A.5_DikeIncrease 2   \n181                   4                  1                   6  \\\n\n    EWS_DaysToThreat scenario policy     model  \n181                2       35      3  dikesnet  \n\n[1 rows x 53 columns]",
      "text/html": "<div>\n<style scoped>\n    .dataframe tbody tr th:only-of-type {\n        vertical-align: middle;\n    }\n\n    .dataframe tbody tr th {\n        vertical-align: top;\n    }\n\n    .dataframe thead th {\n        text-align: right;\n    }\n</style>\n<table border=\"1\" class=\"dataframe\">\n  <thead>\n    <tr style=\"text-align: right;\">\n      <th></th>\n      <th>A.0_ID flood wave shape</th>\n      <th>A.1_Bmax</th>\n      <th>A.1_Brate</th>\n      <th>A.1_pfail</th>\n      <th>A.2_Bmax</th>\n      <th>A.2_Brate</th>\n      <th>A.2_pfail</th>\n      <th>A.3_Bmax</th>\n      <th>A.3_Brate</th>\n      <th>A.3_pfail</th>\n      <th>...</th>\n      <th>A.4_DikeIncrease 0</th>\n      <th>A.4_DikeIncrease 1</th>\n      <th>A.4_DikeIncrease 2</th>\n      <th>A.5_DikeIncrease 0</th>\n      <th>A.5_DikeIncrease 1</th>\n      <th>A.5_DikeIncrease 2</th>\n      <th>EWS_DaysToThreat</th>\n      <th>scenario</th>\n      <th>policy</th>\n      <th>model</th>\n    </tr>\n  </thead>\n  <tbody>\n    <tr>\n      <th>181</th>\n      <td>128</td>\n      <td>175.917571</td>\n      <td>1.5</td>\n      <td>0.934954</td>\n      <td>193.015477</td>\n      <td>1.0</td>\n      <td>0.046922</td>\n      <td>344.48866</td>\n      <td>10.0</td>\n      <td>0.26959</td>\n      <td>...</td>\n      <td>9</td>\n      <td>1</td>\n      <td>9</td>\n      <td>4</td>\n      <td>1</td>\n      <td>6</td>\n      <td>2</td>\n      <td>35</td>\n      <td>3</td>\n      <td>dikesnet</td>\n    </tr>\n  </tbody>\n</table>\n<p>1 rows × 53 columns</p>\n</div>"
     },
     "execution_count": 15,
     "metadata": {},
     "output_type": "execute_result"
    }
   ],
   "source": [
    "## Jeanine code worst\n",
    "worst_A5 = np.where(outcomes['A.5_Expected Number of Deaths'] == np.amax(outcomes['A.5_Expected Number of Deaths']))\n",
    "experiments.loc[worst_A5]\n"
   ],
   "metadata": {
    "collapsed": false,
    "ExecuteTime": {
     "end_time": "2023-06-05T09:26:36.631539500Z",
     "start_time": "2023-06-05T09:26:36.600895300Z"
    }
   }
  },
  {
   "cell_type": "code",
   "execution_count": 19,
   "metadata": {
    "ExecuteTime": {
     "end_time": "2023-06-01T12:52:11.087619700Z",
     "start_time": "2023-06-01T12:52:11.057484300Z"
    }
   },
   "outputs": [],
   "source": [
    "# only works because we have scalar outcomes\n",
    "pd.DataFrame(outcomes)"
   ]
  },
  {
   "cell_type": "code",
   "execution_count": 20,
   "metadata": {
    "ExecuteTime": {
     "end_time": "2023-06-01T12:53:37.814257Z",
     "start_time": "2023-06-01T12:52:12.150370700Z"
    }
   },
   "outputs": [
    {
     "name": "stderr",
     "output_type": "stream",
     "text": [
      "[MainProcess/INFO] pool started with 12 workers\n",
      "[MainProcess/INFO] performing 100 scenarios * 3 policies * 1 model(s) = 300 experiments\n",
      "100%|████████████████████████████████████████| 300/300 [00:42<00:00,  7.12it/s]\n",
      "[MainProcess/INFO] experiments finished\n",
      "[MainProcess/INFO] terminating pool\n"
     ]
    }
   ],
   "source": [
    "# defining specific policies\n",
    "# for example, policy 1 is about extra protection in upper boundary\n",
    "# policy 2 is about extra protection in lower boundary\n",
    "# policy 3 is extra protection in random locations\n",
    "\n",
    "\n",
    "def get_do_nothing_dict():\n",
    "    return {l.name: 0 for l in dike_model.levers}\n",
    "\n",
    "\n",
    "policies = [\n",
    "    Policy(\n",
    "        \"policy 1\",\n",
    "        **dict(\n",
    "            get_do_nothing_dict(),\n",
    "            **{\"0_RfR 0\": 1, \"0_RfR 1\": 1, \"0_RfR 2\": 1, \"A.1_DikeIncrease 0\": 5}\n",
    "        )\n",
    "    ),\n",
    "    Policy(\n",
    "        \"policy 2\",\n",
    "        **dict(\n",
    "            get_do_nothing_dict(),\n",
    "            **{\"4_RfR 0\": 1, \"4_RfR 1\": 1, \"4_RfR 2\": 1, \"A.5_DikeIncrease 0\": 5}\n",
    "        )\n",
    "    ),\n",
    "    Policy(\n",
    "        \"policy 3\",\n",
    "        **dict(\n",
    "            get_do_nothing_dict(),\n",
    "            **{\"1_RfR 0\": 1, \"2_RfR 1\": 1, \"3_RfR 2\": 1, \"A.3_DikeIncrease 0\": 5}\n",
    "        )\n",
    "    ),\n",
    "]"
   ]
  },
  {
   "cell_type": "code",
   "execution_count": null,
   "metadata": {},
   "outputs": [],
   "source": [
    "# pass the policies list to EMA workbench experiment runs\n",
    "n_scenarios = 100\n",
    "with MultiprocessingEvaluator(dike_model) as evaluator:\n",
    "    results = evaluator.perform_experiments(n_scenarios, policies)"
   ]
  },
  {
   "cell_type": "code",
   "execution_count": null,
   "metadata": {},
   "outputs": [],
   "source": [
    "experiments, outcomes = results"
   ]
  },
  {
   "cell_type": "code",
   "execution_count": null,
   "metadata": {},
   "outputs": [],
   "source": [
    "# only works because we have scalar outcomes\n",
    "pd.DataFrame(outcomes)"
   ]
  },
  {
   "cell_type": "code",
   "execution_count": null,
   "metadata": {
    "pycharm": {
     "name": "#%%"
    }
   },
   "outputs": [],
   "source": []
  }
 ],
 "metadata": {
  "kernelspec": {
   "display_name": "Python 3 (ipykernel)",
   "language": "python",
   "name": "python3"
  },
  "language_info": {
   "codemirror_mode": {
    "name": "ipython",
    "version": 3
   },
   "file_extension": ".py",
   "mimetype": "text/x-python",
   "name": "python",
   "nbconvert_exporter": "python",
   "pygments_lexer": "ipython3",
   "version": "3.9.16"
  }
 },
 "nbformat": 4,
 "nbformat_minor": 4
}
