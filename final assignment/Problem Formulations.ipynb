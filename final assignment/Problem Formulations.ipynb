{
 "cells": [
  {
   "cell_type": "code",
   "execution_count": 1,
   "metadata": {
    "ExecuteTime": {
     "end_time": "2023-06-01T12:45:05.421580400Z",
     "start_time": "2023-06-01T12:45:03.307670800Z"
    }
   },
   "outputs": [],
   "source": [
    "import numpy as np\n",
    "import scipy as sp\n",
    "import pandas as pd\n",
    "import matplotlib.pyplot as plt\n",
    "import seaborn as sns\n",
    "import networkx as nx\n",
    "from ema_workbench.util import utilities"
   ]
  },
  {
   "cell_type": "code",
   "execution_count": 2,
   "metadata": {
    "ExecuteTime": {
     "end_time": "2023-06-01T12:45:05.441683600Z",
     "start_time": "2023-06-01T12:45:05.428913300Z"
    }
   },
   "outputs": [
    {
     "name": "stdout",
     "output_type": "stream",
     "text": [
      "1.5.3\n",
      "3.0\n"
     ]
    }
   ],
   "source": [
    "# make sure pandas is version 1.0 or higher\n",
    "# make sure networkx is verion 2.4 or higher\n",
    "print(pd.__version__)\n",
    "print(nx.__version__)"
   ]
  },
  {
   "cell_type": "code",
   "execution_count": 3,
   "metadata": {
    "scrolled": true,
    "ExecuteTime": {
     "end_time": "2023-06-01T12:45:06.905086Z",
     "start_time": "2023-06-01T12:45:06.865089800Z"
    }
   },
   "outputs": [],
   "source": [
    "from ema_workbench import (\n",
    "    Model,\n",
    "    Policy,\n",
    "    ema_logging,\n",
    "    SequentialEvaluator,\n",
    "    MultiprocessingEvaluator,\n",
    ")\n",
    "from dike_model_function import DikeNetwork  # @UnresolvedImport\n",
    "from problem_formulation import get_model_for_problem_formulation, sum_over, sum_over_time\n",
    "\n"
   ]
  },
  {
   "cell_type": "code",
   "execution_count": 4,
   "metadata": {
    "ExecuteTime": {
     "end_time": "2023-06-01T12:45:17.224405100Z",
     "start_time": "2023-06-01T12:45:16.012590800Z"
    }
   },
   "outputs": [],
   "source": [
    "ema_logging.log_to_stderr(ema_logging.INFO)\n",
    "\n",
    "# choose problem formulation number, between 0-5\n",
    "# each problem formulation has its own list of outcomes\n",
    "dike_model, planning_steps = get_model_for_problem_formulation(3)"
   ]
  },
  {
   "cell_type": "code",
   "execution_count": 5,
   "metadata": {
    "ExecuteTime": {
     "end_time": "2023-06-01T12:45:20.872224900Z",
     "start_time": "2023-06-01T12:45:20.792672600Z"
    }
   },
   "outputs": [
    {
     "name": "stdout",
     "output_type": "stream",
     "text": [
      "CategoricalParameter('discount rate 0', [0, 1, 2, 3])\n",
      "CategoricalParameter('discount rate 1', [0, 1, 2, 3])\n",
      "CategoricalParameter('discount rate 2', [0, 1, 2, 3])\n",
      "IntegerParameter('A.0_ID flood wave shape', 0, 132, resolution=None, default=None, variable_name=['A.0_ID flood wave shape'], pff=False)\n",
      "RealParameter('A.1_Bmax', 30, 350, resolution=None, default=None, variable_name=['A.1_Bmax'], pff=False)\n",
      "RealParameter('A.1_pfail', 0, 1, resolution=None, default=None, variable_name=['A.1_pfail'], pff=False)\n",
      "CategoricalParameter('A.1_Brate', [0, 1, 2])\n",
      "RealParameter('A.2_Bmax', 30, 350, resolution=None, default=None, variable_name=['A.2_Bmax'], pff=False)\n",
      "RealParameter('A.2_pfail', 0, 1, resolution=None, default=None, variable_name=['A.2_pfail'], pff=False)\n",
      "CategoricalParameter('A.2_Brate', [0, 1, 2])\n",
      "RealParameter('A.3_Bmax', 30, 350, resolution=None, default=None, variable_name=['A.3_Bmax'], pff=False)\n",
      "RealParameter('A.3_pfail', 0, 1, resolution=None, default=None, variable_name=['A.3_pfail'], pff=False)\n",
      "CategoricalParameter('A.3_Brate', [0, 1, 2])\n",
      "RealParameter('A.4_Bmax', 30, 350, resolution=None, default=None, variable_name=['A.4_Bmax'], pff=False)\n",
      "RealParameter('A.4_pfail', 0, 1, resolution=None, default=None, variable_name=['A.4_pfail'], pff=False)\n",
      "CategoricalParameter('A.4_Brate', [0, 1, 2])\n",
      "RealParameter('A.5_Bmax', 30, 350, resolution=None, default=None, variable_name=['A.5_Bmax'], pff=False)\n",
      "RealParameter('A.5_pfail', 0, 1, resolution=None, default=None, variable_name=['A.5_pfail'], pff=False)\n",
      "CategoricalParameter('A.5_Brate', [0, 1, 2])\n"
     ]
    }
   ],
   "source": [
    "# enlisting uncertainties, their types (RealParameter/IntegerParameter/CategoricalParameter), lower boundary, and upper boundary\n",
    "import copy\n",
    "\n",
    "for unc in dike_model.uncertainties:\n",
    "    print(repr(unc))\n",
    "\n",
    "uncertainties = copy.deepcopy(dike_model.uncertainties)"
   ]
  },
  {
   "cell_type": "code",
   "execution_count": 6,
   "metadata": {
    "ExecuteTime": {
     "end_time": "2023-06-01T12:45:22.594008200Z",
     "start_time": "2023-06-01T12:45:22.543558400Z"
    }
   },
   "outputs": [
    {
     "name": "stdout",
     "output_type": "stream",
     "text": [
      "IntegerParameter('0_RfR 0', 0, 1, resolution=None, default=None, variable_name=['0_RfR 0'], pff=False)\n",
      "IntegerParameter('0_RfR 1', 0, 1, resolution=None, default=None, variable_name=['0_RfR 1'], pff=False)\n",
      "IntegerParameter('0_RfR 2', 0, 1, resolution=None, default=None, variable_name=['0_RfR 2'], pff=False)\n",
      "IntegerParameter('1_RfR 0', 0, 1, resolution=None, default=None, variable_name=['1_RfR 0'], pff=False)\n",
      "IntegerParameter('1_RfR 1', 0, 1, resolution=None, default=None, variable_name=['1_RfR 1'], pff=False)\n",
      "IntegerParameter('1_RfR 2', 0, 1, resolution=None, default=None, variable_name=['1_RfR 2'], pff=False)\n",
      "IntegerParameter('2_RfR 0', 0, 1, resolution=None, default=None, variable_name=['2_RfR 0'], pff=False)\n",
      "IntegerParameter('2_RfR 1', 0, 1, resolution=None, default=None, variable_name=['2_RfR 1'], pff=False)\n",
      "IntegerParameter('2_RfR 2', 0, 1, resolution=None, default=None, variable_name=['2_RfR 2'], pff=False)\n",
      "IntegerParameter('3_RfR 0', 0, 1, resolution=None, default=None, variable_name=['3_RfR 0'], pff=False)\n",
      "IntegerParameter('3_RfR 1', 0, 1, resolution=None, default=None, variable_name=['3_RfR 1'], pff=False)\n",
      "IntegerParameter('3_RfR 2', 0, 1, resolution=None, default=None, variable_name=['3_RfR 2'], pff=False)\n",
      "IntegerParameter('4_RfR 0', 0, 1, resolution=None, default=None, variable_name=['4_RfR 0'], pff=False)\n",
      "IntegerParameter('4_RfR 1', 0, 1, resolution=None, default=None, variable_name=['4_RfR 1'], pff=False)\n",
      "IntegerParameter('4_RfR 2', 0, 1, resolution=None, default=None, variable_name=['4_RfR 2'], pff=False)\n",
      "IntegerParameter('EWS_DaysToThreat', 0, 4, resolution=None, default=None, variable_name=['EWS_DaysToThreat'], pff=False)\n",
      "IntegerParameter('A.1_DikeIncrease 0', 0, 10, resolution=None, default=None, variable_name=['A.1_DikeIncrease 0'], pff=False)\n",
      "IntegerParameter('A.1_DikeIncrease 1', 0, 10, resolution=None, default=None, variable_name=['A.1_DikeIncrease 1'], pff=False)\n",
      "IntegerParameter('A.1_DikeIncrease 2', 0, 10, resolution=None, default=None, variable_name=['A.1_DikeIncrease 2'], pff=False)\n",
      "IntegerParameter('A.2_DikeIncrease 0', 0, 10, resolution=None, default=None, variable_name=['A.2_DikeIncrease 0'], pff=False)\n",
      "IntegerParameter('A.2_DikeIncrease 1', 0, 10, resolution=None, default=None, variable_name=['A.2_DikeIncrease 1'], pff=False)\n",
      "IntegerParameter('A.2_DikeIncrease 2', 0, 10, resolution=None, default=None, variable_name=['A.2_DikeIncrease 2'], pff=False)\n",
      "IntegerParameter('A.3_DikeIncrease 0', 0, 10, resolution=None, default=None, variable_name=['A.3_DikeIncrease 0'], pff=False)\n",
      "IntegerParameter('A.3_DikeIncrease 1', 0, 10, resolution=None, default=None, variable_name=['A.3_DikeIncrease 1'], pff=False)\n",
      "IntegerParameter('A.3_DikeIncrease 2', 0, 10, resolution=None, default=None, variable_name=['A.3_DikeIncrease 2'], pff=False)\n",
      "IntegerParameter('A.4_DikeIncrease 0', 0, 10, resolution=None, default=None, variable_name=['A.4_DikeIncrease 0'], pff=False)\n",
      "IntegerParameter('A.4_DikeIncrease 1', 0, 10, resolution=None, default=None, variable_name=['A.4_DikeIncrease 1'], pff=False)\n",
      "IntegerParameter('A.4_DikeIncrease 2', 0, 10, resolution=None, default=None, variable_name=['A.4_DikeIncrease 2'], pff=False)\n",
      "IntegerParameter('A.5_DikeIncrease 0', 0, 10, resolution=None, default=None, variable_name=['A.5_DikeIncrease 0'], pff=False)\n",
      "IntegerParameter('A.5_DikeIncrease 1', 0, 10, resolution=None, default=None, variable_name=['A.5_DikeIncrease 1'], pff=False)\n",
      "IntegerParameter('A.5_DikeIncrease 2', 0, 10, resolution=None, default=None, variable_name=['A.5_DikeIncrease 2'], pff=False)\n"
     ]
    }
   ],
   "source": [
    "# enlisting policy levers, their types (RealParameter/IntegerParameter), lower boundary, and upper boundary\n",
    "for policy in dike_model.levers:\n",
    "    print(repr(policy))\n",
    "\n",
    "levers = copy.deepcopy(dike_model.levers)"
   ]
  },
  {
   "cell_type": "code",
   "execution_count": 7,
   "metadata": {
    "ExecuteTime": {
     "end_time": "2023-06-01T12:45:23.865002100Z",
     "start_time": "2023-06-01T12:45:23.852480500Z"
    }
   },
   "outputs": [
    {
     "name": "stdout",
     "output_type": "stream",
     "text": [
      "ScalarOutcome('A.1 Total Costs', variable_name=('A.1_Expected Annual Damage', 'A.1_Dike Investment Costs'), function=<function sum_over at 0x0000022F267BC8B0>)\n",
      "ScalarOutcome('A.1_Expected Number of Deaths', variable_name=('A.1_Expected Number of Deaths',), function=<function sum_over at 0x0000022F267BC8B0>)\n",
      "ScalarOutcome('A.2 Total Costs', variable_name=('A.2_Expected Annual Damage', 'A.2_Dike Investment Costs'), function=<function sum_over at 0x0000022F267BC8B0>)\n",
      "ScalarOutcome('A.2_Expected Number of Deaths', variable_name=('A.2_Expected Number of Deaths',), function=<function sum_over at 0x0000022F267BC8B0>)\n",
      "ScalarOutcome('A.3 Total Costs', variable_name=('A.3_Expected Annual Damage', 'A.3_Dike Investment Costs'), function=<function sum_over at 0x0000022F267BC8B0>)\n",
      "ScalarOutcome('A.3_Expected Number of Deaths', variable_name=('A.3_Expected Number of Deaths',), function=<function sum_over at 0x0000022F267BC8B0>)\n",
      "ScalarOutcome('A.4 Total Costs', variable_name=('A.4_Expected Annual Damage', 'A.4_Dike Investment Costs'), function=<function sum_over at 0x0000022F267BC8B0>)\n",
      "ScalarOutcome('A.4_Expected Number of Deaths', variable_name=('A.4_Expected Number of Deaths',), function=<function sum_over at 0x0000022F267BC8B0>)\n",
      "ScalarOutcome('A.5 Total Costs', variable_name=('A.5_Expected Annual Damage', 'A.5_Dike Investment Costs'), function=<function sum_over at 0x0000022F267BC8B0>)\n",
      "ScalarOutcome('A.5_Expected Number of Deaths', variable_name=('A.5_Expected Number of Deaths',), function=<function sum_over at 0x0000022F267BC8B0>)\n",
      "ScalarOutcome('RfR Total Costs', variable_name=('RfR Total Costs',), function=<function sum_over at 0x0000022F267BC8B0>)\n",
      "ScalarOutcome('Expected Evacuation Costs', variable_name=('Expected Evacuation Costs',), function=<function sum_over at 0x0000022F267BC8B0>)\n"
     ]
    }
   ],
   "source": [
    "# enlisting outcomes\n",
    "for outcome in dike_model.outcomes:\n",
    "    print(repr(outcome))"
   ]
  },
  {
   "cell_type": "code",
   "execution_count": 8,
   "metadata": {
    "ExecuteTime": {
     "end_time": "2023-06-01T12:46:33.687076500Z",
     "start_time": "2023-06-01T12:45:25.282333700Z"
    }
   },
   "outputs": [
    {
     "name": "stderr",
     "output_type": "stream",
     "text": [
      "[MainProcess/INFO] pool started with 12 workers\n",
      "[MainProcess/INFO] performing 50 scenarios * 4 policies * 1 model(s) = 200 experiments\n",
      "100%|████████████████████████████████████████| 200/200 [00:26<00:00,  7.60it/s]\n",
      "[MainProcess/INFO] experiments finished\n",
      "[MainProcess/INFO] terminating pool\n"
     ]
    },
    {
     "name": "stdout",
     "output_type": "stream",
     "text": [
      "<class 'tuple'>\n"
     ]
    }
   ],
   "source": [
    "# running the model through EMA workbench\n",
    "with MultiprocessingEvaluator(dike_model) as evaluator:\n",
    "    results = evaluator.perform_experiments(scenarios=50, policies=4)\n",
    "\n",
    "print(type(results))\n"
   ]
  },
  {
   "cell_type": "markdown",
   "source": [
    "\n",
    "Eens kijken of het lukt om het te printen naar csv"
   ],
   "metadata": {
    "collapsed": false
   }
  },
  {
   "cell_type": "code",
   "execution_count": 21,
   "outputs": [
    {
     "name": "stdout",
     "output_type": "stream",
     "text": [
      "dict_keys(['A.1 Total Costs', 'A.1_Expected Number of Deaths', 'A.2 Total Costs', 'A.2_Expected Number of Deaths', 'A.3 Total Costs', 'A.3_Expected Number of Deaths', 'A.4 Total Costs', 'A.4_Expected Number of Deaths', 'A.5 Total Costs', 'A.5_Expected Number of Deaths', 'RfR Total Costs', 'Expected Evacuation Costs'])\n",
      "<class 'dict'>\n"
     ]
    }
   ],
   "source": [
    "\n",
    "import pandas as pd\n",
    "\n",
    "results_df = {1,3,4,5}\n",
    "results_pdf = pd.DataFrame(results_df, columns=['Result'])\n",
    "\n",
    "print(results_pdf)\n",
    "\n",
    "results_pdf.to_csv('C:/Users/jeani/Documents/GitHub/epa1361_open-fork/final assignment/data/results/probeerselJeanine.csv', index=False)\n"
   ],
   "metadata": {
    "collapsed": false,
    "ExecuteTime": {
     "end_time": "2023-06-01T12:53:37.968189900Z",
     "start_time": "2023-06-01T12:53:37.945461300Z"
    }
   }
  },
  {
   "cell_type": "code",
   "execution_count": 16,
   "metadata": {
    "scrolled": true,
    "ExecuteTime": {
     "end_time": "2023-06-01T12:52:02.455069100Z",
     "start_time": "2023-06-01T12:52:02.234190300Z"
    }
   },
   "outputs": [
    {
     "data": {
      "text/plain": "<Figure size 500x500 with 1 Axes>",
      "image/png": "[encoded data removed]"
     },
     "metadata": {},
     "output_type": "display_data"
    }
   ],
   "source": [
    "# observing the simulation runs\n",
    "experiments, outcomes = results\n",
    "print(outcomes.keys())\n"
   ]
  },
  {
   "cell_type": "code",
   "execution_count": 17,
   "outputs": [
    {
     "data": {
      "text/plain": "    A.0_ID flood wave shape    A.1_Bmax A.1_Brate  A.1_pfail    A.2_Bmax  \\\n62                      100  279.127448       1.5   0.214503  112.294194   \n\n   A.2_Brate  A.2_pfail    A.3_Bmax A.3_Brate  A.3_pfail  ...  \\\n62      10.0   0.537227  211.151006       1.5   0.778364  ...   \n\n    A.4_DikeIncrease 0 A.4_DikeIncrease 1  A.4_DikeIncrease 2  \\\n62                   0                 10                   8   \n\n    A.5_DikeIncrease 0 A.5_DikeIncrease 1  A.5_DikeIncrease 2  \\\n62                   0                 10                   0   \n\n   EWS_DaysToThreat scenario policy     model  \n62                1       16      1  dikesnet  \n\n[1 rows x 53 columns]",
      "text/html": "<div>\n<style scoped>\n    .dataframe tbody tr th:only-of-type {\n        vertical-align: middle;\n    }\n\n    .dataframe tbody tr th {\n        vertical-align: top;\n    }\n\n    .dataframe thead th {\n        text-align: right;\n    }\n</style>\n<table border=\"1\" class=\"dataframe\">\n  <thead>\n    <tr style=\"text-align: right;\">\n      <th></th>\n      <th>A.0_ID flood wave shape</th>\n      <th>A.1_Bmax</th>\n      <th>A.1_Brate</th>\n      <th>A.1_pfail</th>\n      <th>A.2_Bmax</th>\n      <th>A.2_Brate</th>\n      <th>A.2_pfail</th>\n      <th>A.3_Bmax</th>\n      <th>A.3_Brate</th>\n      <th>A.3_pfail</th>\n      <th>...</th>\n      <th>A.4_DikeIncrease 0</th>\n      <th>A.4_DikeIncrease 1</th>\n      <th>A.4_DikeIncrease 2</th>\n      <th>A.5_DikeIncrease 0</th>\n      <th>A.5_DikeIncrease 1</th>\n      <th>A.5_DikeIncrease 2</th>\n      <th>EWS_DaysToThreat</th>\n      <th>scenario</th>\n      <th>policy</th>\n      <th>model</th>\n    </tr>\n  </thead>\n  <tbody>\n    <tr>\n      <th>62</th>\n      <td>100</td>\n      <td>279.127448</td>\n      <td>1.5</td>\n      <td>0.214503</td>\n      <td>112.294194</td>\n      <td>10.0</td>\n      <td>0.537227</td>\n      <td>211.151006</td>\n      <td>1.5</td>\n      <td>0.778364</td>\n      <td>...</td>\n      <td>0</td>\n      <td>10</td>\n      <td>8</td>\n      <td>0</td>\n      <td>10</td>\n      <td>0</td>\n      <td>1</td>\n      <td>16</td>\n      <td>1</td>\n      <td>dikesnet</td>\n    </tr>\n  </tbody>\n</table>\n<p>1 rows × 53 columns</p>\n</div>"
     },
     "execution_count": 17,
     "metadata": {},
     "output_type": "execute_result"
    }
   ],
   "source": [
    "\n",
    "## Jeanine code scatterplot\n",
    "fig, axs = plt.subplots(1, figsize=(5, 5))\n",
    "\n",
    "axs.set_ylabel('A.5_Expected Number of Deaths')\n",
    "axs.set_xlabel('A.5 Total Costs')\n",
    "axs.scatter(outcomes['A.5 Total Costs'], outcomes['A.5_Expected Number of Deaths'], c=experiments.policy)\n",
    "\n",
    "unique_policies = experiments.policy.unique()\n",
    "labels = [f'Policy {policy}' for policy in unique_policies]\n",
    "\n",
    "legend = axs.legend(*plt.scatter.legend_elements(), labels=labels, title='Policies')\n",
    "\n",
    "plt.show()"
   ],
   "metadata": {
    "collapsed": false,
    "ExecuteTime": {
     "end_time": "2023-06-01T12:52:08.132516600Z",
     "start_time": "2023-06-01T12:52:08.081920100Z"
    }
   }
  },
  {
   "cell_type": "code",
   "execution_count": 18,
   "outputs": [
    {
     "data": {
      "text/plain": "     A.1 Total Costs  A.1_Expected Number of Deaths  A.2 Total Costs  \\\n0       2.495376e+08                        0.00000     1.773315e+08   \n1       2.495376e+08                        0.00000     1.773315e+08   \n2       2.495376e+08                        0.00000     1.773315e+08   \n3       2.495376e+08                        0.00000     1.773315e+08   \n4       2.495376e+08                        0.00000     1.773315e+08   \n..               ...                            ...              ...   \n195     3.586500e+08                        0.02697     2.237157e+08   \n196     1.188578e+08                        0.00000     2.238407e+08   \n197     1.188578e+08                        0.00000     2.658103e+08   \n198     1.188578e+08                        0.00000     4.565162e+08   \n199     1.188578e+08                        0.00000     2.237157e+08   \n\n     A.2_Expected Number of Deaths  A.3 Total Costs  \\\n0                         0.000000     7.178822e+07   \n1                         0.000000     6.300250e+07   \n2                         0.000000     7.188535e+07   \n3                         0.000000     1.463407e+08   \n4                         0.000000     7.017799e+07   \n..                             ...              ...   \n195                       0.000000     1.121517e+08   \n196                       0.000022     1.121517e+08   \n197                       0.004461     1.121517e+08   \n198                       0.017827     1.121517e+08   \n199                       0.000000     1.121517e+08   \n\n     A.3_Expected Number of Deaths  A.4 Total Costs  \\\n0                         0.001748     3.935619e+07   \n1                         0.000000     3.935619e+07   \n2                         0.001783     3.935619e+07   \n3                         0.016263     3.935619e+07   \n4                         0.001898     3.935619e+07   \n..                             ...              ...   \n195                       0.000000     2.237473e+07   \n196                       0.000000     2.237473e+07   \n197                       0.000000     2.237473e+07   \n198                       0.000000     2.237473e+07   \n199                       0.000000     2.311908e+07   \n\n     A.4_Expected Number of Deaths  A.5 Total Costs  \\\n0                         0.000000     8.110585e+07   \n1                         0.000000     8.110585e+07   \n2                         0.000000     8.110585e+07   \n3                         0.000000     8.110585e+07   \n4                         0.000000     8.110585e+07   \n..                             ...              ...   \n195                       0.000000     1.650397e+08   \n196                       0.000000     1.650397e+08   \n197                       0.000000     1.650397e+08   \n198                       0.000000     1.650397e+08   \n199                       0.000076     1.650397e+08   \n\n     A.5_Expected Number of Deaths  RfR Total Costs  Expected Evacuation Costs  \n0                              0.0     1.852000e+09                 239.191967  \n1                              0.0     1.852000e+09                   0.000000  \n2                              0.0     1.852000e+09                 239.617035  \n3                              0.0     1.852000e+09                2339.591073  \n4                              0.0     1.852000e+09                 252.101248  \n..                             ...              ...                        ...  \n195                            0.0     9.223000e+08                4246.199635  \n196                            0.0     9.223000e+08                   9.985652  \n197                            0.0     9.223000e+08                2261.746595  \n198                            0.0     9.223000e+08                9978.718520  \n199                            0.0     9.223000e+08                  70.285948  \n\n[200 rows x 12 columns]",
      "text/html": "<div>\n<style scoped>\n    .dataframe tbody tr th:only-of-type {\n        vertical-align: middle;\n    }\n\n    .dataframe tbody tr th {\n        vertical-align: top;\n    }\n\n    .dataframe thead th {\n        text-align: right;\n    }\n</style>\n<table border=\"1\" class=\"dataframe\">\n  <thead>\n    <tr style=\"text-align: right;\">\n      <th></th>\n      <th>A.1 Total Costs</th>\n      <th>A.1_Expected Number of Deaths</th>\n      <th>A.2 Total Costs</th>\n      <th>A.2_Expected Number of Deaths</th>\n      <th>A.3 Total Costs</th>\n      <th>A.3_Expected Number of Deaths</th>\n      <th>A.4 Total Costs</th>\n      <th>A.4_Expected Number of Deaths</th>\n      <th>A.5 Total Costs</th>\n      <th>A.5_Expected Number of Deaths</th>\n      <th>RfR Total Costs</th>\n      <th>Expected Evacuation Costs</th>\n    </tr>\n  </thead>\n  <tbody>\n    <tr>\n      <th>0</th>\n      <td>2.495376e+08</td>\n      <td>0.00000</td>\n      <td>1.773315e+08</td>\n      <td>0.000000</td>\n      <td>7.178822e+07</td>\n      <td>0.001748</td>\n      <td>3.935619e+07</td>\n      <td>0.000000</td>\n      <td>8.110585e+07</td>\n      <td>0.0</td>\n      <td>1.852000e+09</td>\n      <td>239.191967</td>\n    </tr>\n    <tr>\n      <th>1</th>\n      <td>2.495376e+08</td>\n      <td>0.00000</td>\n      <td>1.773315e+08</td>\n      <td>0.000000</td>\n      <td>6.300250e+07</td>\n      <td>0.000000</td>\n      <td>3.935619e+07</td>\n      <td>0.000000</td>\n      <td>8.110585e+07</td>\n      <td>0.0</td>\n      <td>1.852000e+09</td>\n      <td>0.000000</td>\n    </tr>\n    <tr>\n      <th>2</th>\n      <td>2.495376e+08</td>\n      <td>0.00000</td>\n      <td>1.773315e+08</td>\n      <td>0.000000</td>\n      <td>7.188535e+07</td>\n      <td>0.001783</td>\n      <td>3.935619e+07</td>\n      <td>0.000000</td>\n      <td>8.110585e+07</td>\n      <td>0.0</td>\n      <td>1.852000e+09</td>\n      <td>239.617035</td>\n    </tr>\n    <tr>\n      <th>3</th>\n      <td>2.495376e+08</td>\n      <td>0.00000</td>\n      <td>1.773315e+08</td>\n      <td>0.000000</td>\n      <td>1.463407e+08</td>\n      <td>0.016263</td>\n      <td>3.935619e+07</td>\n      <td>0.000000</td>\n      <td>8.110585e+07</td>\n      <td>0.0</td>\n      <td>1.852000e+09</td>\n      <td>2339.591073</td>\n    </tr>\n    <tr>\n      <th>4</th>\n      <td>2.495376e+08</td>\n      <td>0.00000</td>\n      <td>1.773315e+08</td>\n      <td>0.000000</td>\n      <td>7.017799e+07</td>\n      <td>0.001898</td>\n      <td>3.935619e+07</td>\n      <td>0.000000</td>\n      <td>8.110585e+07</td>\n      <td>0.0</td>\n      <td>1.852000e+09</td>\n      <td>252.101248</td>\n    </tr>\n    <tr>\n      <th>...</th>\n      <td>...</td>\n      <td>...</td>\n      <td>...</td>\n      <td>...</td>\n      <td>...</td>\n      <td>...</td>\n      <td>...</td>\n      <td>...</td>\n      <td>...</td>\n      <td>...</td>\n      <td>...</td>\n      <td>...</td>\n    </tr>\n    <tr>\n      <th>195</th>\n      <td>3.586500e+08</td>\n      <td>0.02697</td>\n      <td>2.237157e+08</td>\n      <td>0.000000</td>\n      <td>1.121517e+08</td>\n      <td>0.000000</td>\n      <td>2.237473e+07</td>\n      <td>0.000000</td>\n      <td>1.650397e+08</td>\n      <td>0.0</td>\n      <td>9.223000e+08</td>\n      <td>4246.199635</td>\n    </tr>\n    <tr>\n      <th>196</th>\n      <td>1.188578e+08</td>\n      <td>0.00000</td>\n      <td>2.238407e+08</td>\n      <td>0.000022</td>\n      <td>1.121517e+08</td>\n      <td>0.000000</td>\n      <td>2.237473e+07</td>\n      <td>0.000000</td>\n      <td>1.650397e+08</td>\n      <td>0.0</td>\n      <td>9.223000e+08</td>\n      <td>9.985652</td>\n    </tr>\n    <tr>\n      <th>197</th>\n      <td>1.188578e+08</td>\n      <td>0.00000</td>\n      <td>2.658103e+08</td>\n      <td>0.004461</td>\n      <td>1.121517e+08</td>\n      <td>0.000000</td>\n      <td>2.237473e+07</td>\n      <td>0.000000</td>\n      <td>1.650397e+08</td>\n      <td>0.0</td>\n      <td>9.223000e+08</td>\n      <td>2261.746595</td>\n    </tr>\n    <tr>\n      <th>198</th>\n      <td>1.188578e+08</td>\n      <td>0.00000</td>\n      <td>4.565162e+08</td>\n      <td>0.017827</td>\n      <td>1.121517e+08</td>\n      <td>0.000000</td>\n      <td>2.237473e+07</td>\n      <td>0.000000</td>\n      <td>1.650397e+08</td>\n      <td>0.0</td>\n      <td>9.223000e+08</td>\n      <td>9978.718520</td>\n    </tr>\n    <tr>\n      <th>199</th>\n      <td>1.188578e+08</td>\n      <td>0.00000</td>\n      <td>2.237157e+08</td>\n      <td>0.000000</td>\n      <td>1.121517e+08</td>\n      <td>0.000000</td>\n      <td>2.311908e+07</td>\n      <td>0.000076</td>\n      <td>1.650397e+08</td>\n      <td>0.0</td>\n      <td>9.223000e+08</td>\n      <td>70.285948</td>\n    </tr>\n  </tbody>\n</table>\n<p>200 rows × 12 columns</p>\n</div>"
     },
     "execution_count": 18,
     "metadata": {},
     "output_type": "execute_result"
    }
   ],
   "source": [
    "## Jeanine code worst\n",
    "worst_A5 = np.where(outcomes['A.5_Expected Number of Deaths'] == np.amax(outcomes['A.5_Expected Number of Deaths']))\n",
    "experiments.loc[worst_A5]\n",
    "\n",
    "worst_A5 = np.where(outcomes['A.5_Expected Number of Deaths'] == np.amax(outcomes['A.5_Expected Number of Deaths']))\n",
    "experiments.loc[worst_A5]\n"
   ],
   "metadata": {
    "collapsed": false,
    "ExecuteTime": {
     "end_time": "2023-06-01T12:52:10.194068400Z",
     "start_time": "2023-06-01T12:52:10.154066Z"
    }
   }
  },
  {
   "cell_type": "code",
   "execution_count": 19,
   "metadata": {
    "ExecuteTime": {
     "end_time": "2023-06-01T12:52:11.087619700Z",
     "start_time": "2023-06-01T12:52:11.057484300Z"
    }
   },
   "outputs": [],
   "source": [
    "# only works because we have scalar outcomes\n",
    "pd.DataFrame(outcomes)"
   ]
  },
  {
   "cell_type": "code",
   "execution_count": 20,
   "metadata": {
    "ExecuteTime": {
     "end_time": "2023-06-01T12:53:37.814257Z",
     "start_time": "2023-06-01T12:52:12.150370700Z"
    }
   },
   "outputs": [
    {
     "name": "stderr",
     "output_type": "stream",
     "text": [
      "[MainProcess/INFO] pool started with 12 workers\n",
      "[MainProcess/INFO] performing 100 scenarios * 3 policies * 1 model(s) = 300 experiments\n",
      "100%|████████████████████████████████████████| 300/300 [00:42<00:00,  7.12it/s]\n",
      "[MainProcess/INFO] experiments finished\n",
      "[MainProcess/INFO] terminating pool\n"
     ]
    }
   ],
   "source": [
    "# defining specific policies\n",
    "# for example, policy 1 is about extra protection in upper boundary\n",
    "# policy 2 is about extra protection in lower boundary\n",
    "# policy 3 is extra protection in random locations\n",
    "\n",
    "\n",
    "def get_do_nothing_dict():\n",
    "    return {l.name: 0 for l in dike_model.levers}\n",
    "\n",
    "\n",
    "policies = [\n",
    "    Policy(\n",
    "        \"policy 1\",\n",
    "        **dict(\n",
    "            get_do_nothing_dict(),\n",
    "            **{\"0_RfR 0\": 1, \"0_RfR 1\": 1, \"0_RfR 2\": 1, \"A.1_DikeIncrease 0\": 5}\n",
    "        )\n",
    "    ),\n",
    "    Policy(\n",
    "        \"policy 2\",\n",
    "        **dict(\n",
    "            get_do_nothing_dict(),\n",
    "            **{\"4_RfR 0\": 1, \"4_RfR 1\": 1, \"4_RfR 2\": 1, \"A.5_DikeIncrease 0\": 5}\n",
    "        )\n",
    "    ),\n",
    "    Policy(\n",
    "        \"policy 3\",\n",
    "        **dict(\n",
    "            get_do_nothing_dict(),\n",
    "            **{\"1_RfR 0\": 1, \"2_RfR 1\": 1, \"3_RfR 2\": 1, \"A.3_DikeIncrease 0\": 5}\n",
    "        )\n",
    "    ),\n",
    "]"
   ]
  },
  {
   "cell_type": "code",
   "execution_count": null,
   "metadata": {},
   "outputs": [],
   "source": [
    "# pass the policies list to EMA workbench experiment runs\n",
    "n_scenarios = 100\n",
    "with MultiprocessingEvaluator(dike_model) as evaluator:\n",
    "    results = evaluator.perform_experiments(n_scenarios, policies)"
   ]
  },
  {
   "cell_type": "code",
   "execution_count": null,
   "metadata": {},
   "outputs": [],
   "source": [
    "experiments, outcomes = results"
   ]
  },
  {
   "cell_type": "code",
   "execution_count": null,
   "metadata": {},
   "outputs": [],
   "source": [
    "# only works because we have scalar outcomes\n",
    "pd.DataFrame(outcomes)"
   ]
  },
  {
   "cell_type": "code",
   "execution_count": null,
   "metadata": {
    "pycharm": {
     "name": "#%%"
    }
   },
   "outputs": [],
   "source": []
  }
 ],
 "metadata": {
  "kernelspec": {
   "display_name": "Python 3 (ipykernel)",
   "language": "python",
   "name": "python3"
  },
  "language_info": {
   "codemirror_mode": {
    "name": "ipython",
    "version": 3
   },
   "file_extension": ".py",
   "mimetype": "text/x-python",
   "name": "python",
   "nbconvert_exporter": "python",
   "pygments_lexer": "ipython3",
   "version": "3.9.16"
  }
 },
 "nbformat": 4,
 "nbformat_minor": 4
}
