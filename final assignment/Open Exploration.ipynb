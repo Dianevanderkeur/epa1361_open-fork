{
 "cells": [
  {
   "cell_type": "code",
   "execution_count": 38,
   "outputs": [],
   "source": [
    "import numpy as np\n",
    "import scipy as sp\n",
    "import pandas as pd\n",
    "import matplotlib.pyplot as plt\n",
    "import seaborn as sns\n",
    "import networkx as nx\n",
    "from ema_workbench.util import utilities"
   ],
   "metadata": {
    "collapsed": false,
    "ExecuteTime": {
     "end_time": "2023-06-12T09:24:19.618060100Z",
     "start_time": "2023-06-12T09:24:19.601433300Z"
    }
   }
  },
  {
   "cell_type": "code",
   "execution_count": 39,
   "outputs": [
    {
     "name": "stdout",
     "output_type": "stream",
     "text": [
      "1.5.3\n",
      "3.0\n"
     ]
    }
   ],
   "source": [
    "# make sure pandas is version 1.0 or higher\n",
    "# make sure networkx is verion 2.4 or higher\n",
    "print(pd.__version__)\n",
    "print(nx.__version__)"
   ],
   "metadata": {
    "collapsed": false,
    "ExecuteTime": {
     "end_time": "2023-06-12T09:24:19.667936600Z",
     "start_time": "2023-06-12T09:24:19.611441800Z"
    }
   }
  },
  {
   "cell_type": "code",
   "execution_count": 40,
   "outputs": [],
   "source": [
    "from ema_workbench import (\n",
    "    Model,\n",
    "    Policy,\n",
    "    ema_logging,\n",
    "    SequentialEvaluator,\n",
    "    MultiprocessingEvaluator,\n",
    ")\n",
    "from dike_model_function import DikeNetwork  # @UnresolvedImport\n",
    "from problem_formulation import get_model_for_problem_formulation, sum_over, sum_over_time\n",
    "\n",
    "ema_logging.log_to_stderr(ema_logging.INFO)\n",
    "\n",
    "# choose problem formulation number, between 0-5\n",
    "# each problem formulation has its own list of outcomes\n",
    "dike_model, planning_steps = get_model_for_problem_formulation(3)"
   ],
   "metadata": {
    "collapsed": false,
    "ExecuteTime": {
     "end_time": "2023-06-12T09:24:19.811423500Z",
     "start_time": "2023-06-12T09:24:19.634610600Z"
    }
   }
  },
  {
   "cell_type": "code",
   "execution_count": 41,
   "outputs": [
    {
     "name": "stdout",
     "output_type": "stream",
     "text": [
      "CategoricalParameter('discount rate 0', [0, 1, 2, 3])\n",
      "CategoricalParameter('discount rate 1', [0, 1, 2, 3])\n",
      "CategoricalParameter('discount rate 2', [0, 1, 2, 3])\n",
      "IntegerParameter('A.0_ID flood wave shape', 0, 132, resolution=None, default=None, variable_name=['A.0_ID flood wave shape'], pff=False)\n",
      "RealParameter('A.1_Bmax', 30, 350, resolution=None, default=None, variable_name=['A.1_Bmax'], pff=False)\n",
      "RealParameter('A.1_pfail', 0, 1, resolution=None, default=None, variable_name=['A.1_pfail'], pff=False)\n",
      "CategoricalParameter('A.1_Brate', [0, 1, 2])\n",
      "RealParameter('A.2_Bmax', 30, 350, resolution=None, default=None, variable_name=['A.2_Bmax'], pff=False)\n",
      "RealParameter('A.2_pfail', 0, 1, resolution=None, default=None, variable_name=['A.2_pfail'], pff=False)\n",
      "CategoricalParameter('A.2_Brate', [0, 1, 2])\n",
      "RealParameter('A.3_Bmax', 30, 350, resolution=None, default=None, variable_name=['A.3_Bmax'], pff=False)\n",
      "RealParameter('A.3_pfail', 0, 1, resolution=None, default=None, variable_name=['A.3_pfail'], pff=False)\n",
      "CategoricalParameter('A.3_Brate', [0, 1, 2])\n",
      "RealParameter('A.4_Bmax', 30, 350, resolution=None, default=None, variable_name=['A.4_Bmax'], pff=False)\n",
      "RealParameter('A.4_pfail', 0, 1, resolution=None, default=None, variable_name=['A.4_pfail'], pff=False)\n",
      "CategoricalParameter('A.4_Brate', [0, 1, 2])\n",
      "RealParameter('A.5_Bmax', 30, 350, resolution=None, default=None, variable_name=['A.5_Bmax'], pff=False)\n",
      "RealParameter('A.5_pfail', 0, 1, resolution=None, default=None, variable_name=['A.5_pfail'], pff=False)\n",
      "CategoricalParameter('A.5_Brate', [0, 1, 2])\n"
     ]
    }
   ],
   "source": [
    "# enlisting uncertainties, their types (RealParameter/IntegerParameter/CategoricalParameter), lower boundary, and upper boundary\n",
    "import copy\n",
    "\n",
    "for unc in dike_model.uncertainties:\n",
    "    print(repr(unc))\n",
    "\n",
    "uncertainties = copy.deepcopy(dike_model.uncertainties)\n",
    "\n",
    "\n"
   ],
   "metadata": {
    "collapsed": false,
    "ExecuteTime": {
     "end_time": "2023-06-12T09:24:19.827959300Z",
     "start_time": "2023-06-12T09:24:19.811423500Z"
    }
   }
  },
  {
   "cell_type": "code",
   "execution_count": 42,
   "outputs": [
    {
     "name": "stdout",
     "output_type": "stream",
     "text": [
      "+-------------------------+-------------+-------------+\n",
      "|        Parameter        | Lower Bound | Upper Bound |\n",
      "+-------------------------+-------------+-------------+\n",
      "|     discount rate 0     |      0      |      3      |\n",
      "|     discount rate 1     |      0      |      3      |\n",
      "|     discount rate 2     |      0      |      3      |\n",
      "| A.0_ID flood wave shape |      0      |     132     |\n",
      "|         A.1_Bmax        |      30     |     350     |\n",
      "|        A.1_pfail        |      0      |      1      |\n",
      "|        A.1_Brate        |      0      |      2      |\n",
      "|         A.2_Bmax        |      30     |     350     |\n",
      "|        A.2_pfail        |      0      |      1      |\n",
      "|        A.2_Brate        |      0      |      2      |\n",
      "|         A.3_Bmax        |      30     |     350     |\n",
      "|        A.3_pfail        |      0      |      1      |\n",
      "|        A.3_Brate        |      0      |      2      |\n",
      "|         A.4_Bmax        |      30     |     350     |\n",
      "|        A.4_pfail        |      0      |      1      |\n",
      "|        A.4_Brate        |      0      |      2      |\n",
      "|         A.5_Bmax        |      30     |     350     |\n",
      "|        A.5_pfail        |      0      |      1      |\n",
      "|        A.5_Brate        |      0      |      2      |\n",
      "+-------------------------+-------------+-------------+\n"
     ]
    }
   ],
   "source": [
    "### print uncertainties\n",
    "#\n",
    "from prettytable import PrettyTable\n",
    "\n",
    "# Create a new table\n",
    "table = PrettyTable()\n",
    "table.field_names = [\"Parameter\", \"Lower Bound\", \"Upper Bound\"]\n",
    "\n",
    "# Add rows to the table\n",
    "for uncertainty in uncertainties:\n",
    "    table.add_row([uncertainty.name, uncertainty.lower_bound, uncertainty.upper_bound])\n",
    "\n",
    "# Print the table\n",
    "print(table)\n",
    "\n",
    "# #Print it simple\n",
    "# for uncertainty in uncertainties:\n",
    "#     print(\"Parameter: {}\".format(uncertainty.name))\n",
    "#     print(\"Range: [{}, {}]\".format(uncertainty.lower_bound, uncertainty.upper_bound))\n",
    "#     print(\"---------------------------\")"
   ],
   "metadata": {
    "collapsed": false,
    "ExecuteTime": {
     "end_time": "2023-06-12T09:24:19.868033500Z",
     "start_time": "2023-06-12T09:24:19.834801100Z"
    }
   }
  },
  {
   "cell_type": "code",
   "execution_count": 43,
   "outputs": [
    {
     "name": "stdout",
     "output_type": "stream",
     "text": [
      "['0_RfR 0', '0_RfR 1', '0_RfR 2', '1_RfR 0', '1_RfR 1', '1_RfR 2', '2_RfR 0', '2_RfR 1', '2_RfR 2', '3_RfR 0', '3_RfR 1', '3_RfR 2', '4_RfR 0', '4_RfR 1', '4_RfR 2', 'EWS_DaysToThreat', 'A.1_DikeIncrease 0', 'A.1_DikeIncrease 1', 'A.1_DikeIncrease 2', 'A.2_DikeIncrease 0', 'A.2_DikeIncrease 1', 'A.2_DikeIncrease 2', 'A.3_DikeIncrease 0', 'A.3_DikeIncrease 1', 'A.3_DikeIncrease 2', 'A.4_DikeIncrease 0', 'A.4_DikeIncrease 1', 'A.4_DikeIncrease 2', 'A.5_DikeIncrease 0', 'A.5_DikeIncrease 1', 'A.5_DikeIncrease 2']\n"
     ]
    }
   ],
   "source": [
    "from ema_workbench import IntegerParameter\n",
    "\n",
    "def get_levers(model):\n",
    "    levers = []\n",
    "\n",
    "    for lever in model.levers:\n",
    "        if isinstance(lever, IntegerParameter):\n",
    "            levers.append(lever.name)\n",
    "\n",
    "    return levers\n",
    "\n",
    "# Example usage\n",
    "model, _ = get_model_for_problem_formulation(3)\n",
    "lever_list = get_levers(model)\n",
    "\n",
    "print(lever_list)\n"
   ],
   "metadata": {
    "collapsed": false,
    "ExecuteTime": {
     "end_time": "2023-06-12T09:24:20.011775400Z",
     "start_time": "2023-06-12T09:24:19.835876600Z"
    }
   }
  },
  {
   "cell_type": "code",
   "execution_count": 44,
   "outputs": [
    {
     "name": "stdout",
     "output_type": "stream",
     "text": [
      "Lever: 0_RfR 0\n",
      "Range: (0, 1)\n",
      "\n",
      "Lever: 0_RfR 1\n",
      "Range: (0, 1)\n",
      "\n",
      "Lever: 0_RfR 2\n",
      "Range: (0, 1)\n",
      "\n",
      "Lever: 1_RfR 0\n",
      "Range: (0, 1)\n",
      "\n",
      "Lever: 1_RfR 1\n",
      "Range: (0, 1)\n",
      "\n",
      "Lever: 1_RfR 2\n",
      "Range: (0, 1)\n",
      "\n",
      "Lever: 2_RfR 0\n",
      "Range: (0, 1)\n",
      "\n",
      "Lever: 2_RfR 1\n",
      "Range: (0, 1)\n",
      "\n",
      "Lever: 2_RfR 2\n",
      "Range: (0, 1)\n",
      "\n",
      "Lever: 3_RfR 0\n",
      "Range: (0, 1)\n",
      "\n",
      "Lever: 3_RfR 1\n",
      "Range: (0, 1)\n",
      "\n",
      "Lever: 3_RfR 2\n",
      "Range: (0, 1)\n",
      "\n",
      "Lever: 4_RfR 0\n",
      "Range: (0, 1)\n",
      "\n",
      "Lever: 4_RfR 1\n",
      "Range: (0, 1)\n",
      "\n",
      "Lever: 4_RfR 2\n",
      "Range: (0, 1)\n",
      "\n",
      "Lever: EWS_DaysToThreat\n",
      "Range: (0, 4)\n",
      "\n",
      "Lever: A.1_DikeIncrease 0\n",
      "Range: (0, 10)\n",
      "\n",
      "Lever: A.1_DikeIncrease 1\n",
      "Range: (0, 10)\n",
      "\n",
      "Lever: A.1_DikeIncrease 2\n",
      "Range: (0, 10)\n",
      "\n",
      "Lever: A.2_DikeIncrease 0\n",
      "Range: (0, 10)\n",
      "\n",
      "Lever: A.2_DikeIncrease 1\n",
      "Range: (0, 10)\n",
      "\n",
      "Lever: A.2_DikeIncrease 2\n",
      "Range: (0, 10)\n",
      "\n",
      "Lever: A.3_DikeIncrease 0\n",
      "Range: (0, 10)\n",
      "\n",
      "Lever: A.3_DikeIncrease 1\n",
      "Range: (0, 10)\n",
      "\n",
      "Lever: A.3_DikeIncrease 2\n",
      "Range: (0, 10)\n",
      "\n",
      "Lever: A.4_DikeIncrease 0\n",
      "Range: (0, 10)\n",
      "\n",
      "Lever: A.4_DikeIncrease 1\n",
      "Range: (0, 10)\n",
      "\n",
      "Lever: A.4_DikeIncrease 2\n",
      "Range: (0, 10)\n",
      "\n",
      "Lever: A.5_DikeIncrease 0\n",
      "Range: (0, 10)\n",
      "\n",
      "Lever: A.5_DikeIncrease 1\n",
      "Range: (0, 10)\n",
      "\n",
      "Lever: A.5_DikeIncrease 2\n",
      "Range: (0, 10)\n",
      "\n"
     ]
    }
   ],
   "source": [
    "def get_levers_with_ranges(model):\n",
    "    levers = []\n",
    "\n",
    "    for lever in model.levers:\n",
    "        if isinstance(lever, IntegerParameter):\n",
    "            lever_range = (lever.lower_bound, lever.upper_bound)\n",
    "            levers.append((lever.name, lever_range))\n",
    "\n",
    "    return levers\n",
    "\n",
    "# Example usage\n",
    "model, _ = get_model_for_problem_formulation(3)\n",
    "levers_with_ranges = get_levers_with_ranges(model)\n",
    "\n",
    "for lever_name, lever_range in levers_with_ranges:\n",
    "    print(f\"Lever: {lever_name}\")\n",
    "    print(f\"Range: {lever_range}\")\n",
    "    print()\n"
   ],
   "metadata": {
    "collapsed": false,
    "ExecuteTime": {
     "end_time": "2023-06-12T09:24:20.211930200Z",
     "start_time": "2023-06-12T09:24:20.011775400Z"
    }
   }
  },
  {
   "cell_type": "code",
   "execution_count": 44,
   "outputs": [],
   "source": [],
   "metadata": {
    "collapsed": false,
    "ExecuteTime": {
     "end_time": "2023-06-12T09:24:20.261508700Z",
     "start_time": "2023-06-12T09:24:20.211930200Z"
    }
   }
  },
  {
   "cell_type": "code",
   "execution_count": 45,
   "outputs": [
    {
     "name": "stdout",
     "output_type": "stream",
     "text": [
      "IntegerParameter('0_RfR 0', 0, 1, resolution=None, default=None, variable_name=['0_RfR 0'], pff=False)\n",
      "IntegerParameter('0_RfR 1', 0, 1, resolution=None, default=None, variable_name=['0_RfR 1'], pff=False)\n",
      "IntegerParameter('0_RfR 2', 0, 1, resolution=None, default=None, variable_name=['0_RfR 2'], pff=False)\n",
      "IntegerParameter('1_RfR 0', 0, 1, resolution=None, default=None, variable_name=['1_RfR 0'], pff=False)\n",
      "IntegerParameter('1_RfR 1', 0, 1, resolution=None, default=None, variable_name=['1_RfR 1'], pff=False)\n",
      "IntegerParameter('1_RfR 2', 0, 1, resolution=None, default=None, variable_name=['1_RfR 2'], pff=False)\n",
      "IntegerParameter('2_RfR 0', 0, 1, resolution=None, default=None, variable_name=['2_RfR 0'], pff=False)\n",
      "IntegerParameter('2_RfR 1', 0, 1, resolution=None, default=None, variable_name=['2_RfR 1'], pff=False)\n",
      "IntegerParameter('2_RfR 2', 0, 1, resolution=None, default=None, variable_name=['2_RfR 2'], pff=False)\n",
      "IntegerParameter('3_RfR 0', 0, 1, resolution=None, default=None, variable_name=['3_RfR 0'], pff=False)\n",
      "IntegerParameter('3_RfR 1', 0, 1, resolution=None, default=None, variable_name=['3_RfR 1'], pff=False)\n",
      "IntegerParameter('3_RfR 2', 0, 1, resolution=None, default=None, variable_name=['3_RfR 2'], pff=False)\n",
      "IntegerParameter('4_RfR 0', 0, 1, resolution=None, default=None, variable_name=['4_RfR 0'], pff=False)\n",
      "IntegerParameter('4_RfR 1', 0, 1, resolution=None, default=None, variable_name=['4_RfR 1'], pff=False)\n",
      "IntegerParameter('4_RfR 2', 0, 1, resolution=None, default=None, variable_name=['4_RfR 2'], pff=False)\n",
      "IntegerParameter('EWS_DaysToThreat', 0, 4, resolution=None, default=None, variable_name=['EWS_DaysToThreat'], pff=False)\n",
      "IntegerParameter('A.1_DikeIncrease 0', 0, 10, resolution=None, default=None, variable_name=['A.1_DikeIncrease 0'], pff=False)\n",
      "IntegerParameter('A.1_DikeIncrease 1', 0, 10, resolution=None, default=None, variable_name=['A.1_DikeIncrease 1'], pff=False)\n",
      "IntegerParameter('A.1_DikeIncrease 2', 0, 10, resolution=None, default=None, variable_name=['A.1_DikeIncrease 2'], pff=False)\n",
      "IntegerParameter('A.2_DikeIncrease 0', 0, 10, resolution=None, default=None, variable_name=['A.2_DikeIncrease 0'], pff=False)\n",
      "IntegerParameter('A.2_DikeIncrease 1', 0, 10, resolution=None, default=None, variable_name=['A.2_DikeIncrease 1'], pff=False)\n",
      "IntegerParameter('A.2_DikeIncrease 2', 0, 10, resolution=None, default=None, variable_name=['A.2_DikeIncrease 2'], pff=False)\n",
      "IntegerParameter('A.3_DikeIncrease 0', 0, 10, resolution=None, default=None, variable_name=['A.3_DikeIncrease 0'], pff=False)\n",
      "IntegerParameter('A.3_DikeIncrease 1', 0, 10, resolution=None, default=None, variable_name=['A.3_DikeIncrease 1'], pff=False)\n",
      "IntegerParameter('A.3_DikeIncrease 2', 0, 10, resolution=None, default=None, variable_name=['A.3_DikeIncrease 2'], pff=False)\n",
      "IntegerParameter('A.4_DikeIncrease 0', 0, 10, resolution=None, default=None, variable_name=['A.4_DikeIncrease 0'], pff=False)\n",
      "IntegerParameter('A.4_DikeIncrease 1', 0, 10, resolution=None, default=None, variable_name=['A.4_DikeIncrease 1'], pff=False)\n",
      "IntegerParameter('A.4_DikeIncrease 2', 0, 10, resolution=None, default=None, variable_name=['A.4_DikeIncrease 2'], pff=False)\n",
      "IntegerParameter('A.5_DikeIncrease 0', 0, 10, resolution=None, default=None, variable_name=['A.5_DikeIncrease 0'], pff=False)\n",
      "IntegerParameter('A.5_DikeIncrease 1', 0, 10, resolution=None, default=None, variable_name=['A.5_DikeIncrease 1'], pff=False)\n",
      "IntegerParameter('A.5_DikeIncrease 2', 0, 10, resolution=None, default=None, variable_name=['A.5_DikeIncrease 2'], pff=False)\n"
     ]
    }
   ],
   "source": [
    "# enlisting policy levers, their types (RealParameter/IntegerParameter), lower boundary, and upper boundary\n",
    "for policy in dike_model.levers:\n",
    "    print(repr(policy))\n",
    "\n",
    "levers = copy.deepcopy(dike_model.levers)"
   ],
   "metadata": {
    "collapsed": false,
    "ExecuteTime": {
     "end_time": "2023-06-12T09:24:20.268178700Z",
     "start_time": "2023-06-12T09:24:20.228607500Z"
    }
   }
  },
  {
   "cell_type": "code",
   "execution_count": 46,
   "outputs": [
    {
     "name": "stdout",
     "output_type": "stream",
     "text": [
      "ScalarOutcome('A.1 Total Costs', variable_name=('A.1_Expected Annual Damage', 'A.1_Dike Investment Costs'), function=<function sum_over at 0x0000017717687DC0>)\n",
      "ScalarOutcome('A.1_Expected Number of Deaths', variable_name=('A.1_Expected Number of Deaths',), function=<function sum_over at 0x0000017717687DC0>)\n",
      "ScalarOutcome('A.2 Total Costs', variable_name=('A.2_Expected Annual Damage', 'A.2_Dike Investment Costs'), function=<function sum_over at 0x0000017717687DC0>)\n",
      "ScalarOutcome('A.2_Expected Number of Deaths', variable_name=('A.2_Expected Number of Deaths',), function=<function sum_over at 0x0000017717687DC0>)\n",
      "ScalarOutcome('A.3 Total Costs', variable_name=('A.3_Expected Annual Damage', 'A.3_Dike Investment Costs'), function=<function sum_over at 0x0000017717687DC0>)\n",
      "ScalarOutcome('A.3_Expected Number of Deaths', variable_name=('A.3_Expected Number of Deaths',), function=<function sum_over at 0x0000017717687DC0>)\n",
      "ScalarOutcome('A.4 Total Costs', variable_name=('A.4_Expected Annual Damage', 'A.4_Dike Investment Costs'), function=<function sum_over at 0x0000017717687DC0>)\n",
      "ScalarOutcome('A.4_Expected Number of Deaths', variable_name=('A.4_Expected Number of Deaths',), function=<function sum_over at 0x0000017717687DC0>)\n",
      "ScalarOutcome('A.5 Total Costs', variable_name=('A.5_Expected Annual Damage', 'A.5_Dike Investment Costs'), function=<function sum_over at 0x0000017717687DC0>)\n",
      "ScalarOutcome('A.5_Expected Number of Deaths', variable_name=('A.5_Expected Number of Deaths',), function=<function sum_over at 0x0000017717687DC0>)\n",
      "ScalarOutcome('RfR Total Costs', variable_name=('RfR Total Costs',), function=<function sum_over at 0x0000017717687DC0>)\n",
      "ScalarOutcome('Expected Evacuation Costs', variable_name=('Expected Evacuation Costs',), function=<function sum_over at 0x0000017717687DC0>)\n"
     ]
    }
   ],
   "source": [
    "#enlisting outcomes\n",
    "for outcome in dike_model.outcomes:\n",
    "    print(repr(outcome))"
   ],
   "metadata": {
    "collapsed": false,
    "ExecuteTime": {
     "end_time": "2023-06-12T09:24:20.268178700Z",
     "start_time": "2023-06-12T09:24:20.261508700Z"
    }
   }
  },
  {
   "cell_type": "code",
   "execution_count": 47,
   "outputs": [
    {
     "name": "stderr",
     "output_type": "stream",
     "text": [
      "[MainProcess/INFO] pool started with 12 workers\n",
      "[MainProcess/INFO] performing 50 scenarios * 4 policies * 1 model(s) = 200 experiments\n",
      "100%|████████████████████████████████████████| 200/200 [00:20<00:00,  9.56it/s]\n",
      "[MainProcess/INFO] experiments finished\n",
      "[MainProcess/INFO] terminating pool\n"
     ]
    },
    {
     "name": "stdout",
     "output_type": "stream",
     "text": [
      "<class 'tuple'>\n"
     ]
    }
   ],
   "source": [
    "ema_logging.log_to_stderr(ema_logging.INFO)\n",
    "\n",
    "\n",
    "with MultiprocessingEvaluator(dike_model) as evaluator:\n",
    "    results = evaluator.perform_experiments(scenarios=50, policies=4)\n",
    "\n",
    "print(type(results))"
   ],
   "metadata": {
    "collapsed": false,
    "ExecuteTime": {
     "end_time": "2023-06-12T09:25:12.376294Z",
     "start_time": "2023-06-12T09:24:20.261508700Z"
    }
   }
  },
  {
   "cell_type": "code",
   "execution_count": 66,
   "outputs": [
    {
     "name": "stdout",
     "output_type": "stream",
     "text": [
      "Shape of df_experiments: 200 rows, 53 columns.\n",
      "Shape of df_outcomes: 200 rows, 12 columns.\n"
     ]
    },
    {
     "ename": "NameError",
     "evalue": "name 'sdutil' is not defined",
     "output_type": "error",
     "traceback": [
      "\u001B[1;31m---------------------------------------------------------------------------\u001B[0m",
      "\u001B[1;31mNameError\u001B[0m                                 Traceback (most recent call last)",
      "Cell \u001B[1;32mIn[66], line 27\u001B[0m\n\u001B[0;32m     20\u001B[0m df_outcomes\u001B[38;5;241m.\u001B[39mhead(\u001B[38;5;241m3\u001B[39m)\n\u001B[0;32m     23\u001B[0m \u001B[38;5;66;03m# Defining the levers you want to analyze\u001B[39;00m\n\u001B[0;32m     24\u001B[0m \u001B[38;5;66;03m# levers_to_analyze = [\"A.5_DikeIncrease 0\", \"A.EWS_DaysToThreat\", \"4_RfR 2\"]\u001B[39;00m\n\u001B[0;32m     25\u001B[0m \n\u001B[0;32m     26\u001B[0m \u001B[38;5;66;03m# Performing the PRIM analysis\u001B[39;00m\n\u001B[1;32m---> 27\u001B[0m prim_obj \u001B[38;5;241m=\u001B[39m prim\u001B[38;5;241m.\u001B[39mPrim(df_experiments, df_outcomes, threshold\u001B[38;5;241m=\u001B[39m\u001B[38;5;241m0.2\u001B[39m, mode\u001B[38;5;241m=\u001B[39m\u001B[43msdutil\u001B[49m\u001B[38;5;241m.\u001B[39mRuleInductionType\u001B[38;5;241m.\u001B[39mBINARY)\n\u001B[0;32m     28\u001B[0m box1 \u001B[38;5;241m=\u001B[39m prim_obj\u001B[38;5;241m.\u001B[39mfind_box()\n\u001B[0;32m     30\u001B[0m \u001B[38;5;66;03m# Printing the box statistics\u001B[39;00m\n",
      "\u001B[1;31mNameError\u001B[0m: name 'sdutil' is not defined"
     ]
    }
   ],
   "source": [
    "# WERKT NOG NIEEEET\n",
    "#Analyzing lever interactions\n",
    "from ema_workbench.analysis import prim\n",
    "\n",
    "ema_logging.log_to_stderr(ema_logging.INFO)\n",
    "\n",
    "# Extracting outcomes from the results\n",
    "experiments, outcomes = results\n",
    "\n",
    "# Creating a DataFrame from the experiments\n",
    "df_experiments = pd.DataFrame(experiments)\n",
    "\n",
    "print(f\"Shape of df_experiments: {df_experiments.shape[0]} rows, {df_experiments.shape[1]} columns.\")\n",
    "df_experiments.head(3)\n",
    "\n",
    "# Creating a DataFrame for the outcomes\n",
    "df_outcomes = pd.DataFrame(outcomes)\n",
    "\n",
    "print(f\"Shape of df_outcomes: {df_outcomes.shape[0]} rows, {df_outcomes.shape[1]} columns.\")\n",
    "df_outcomes.head(3)\n",
    "\n",
    "\n",
    "# Defining the levers you want to analyze\n",
    "# levers_to_analyze = [\"A.5_DikeIncrease 0\", \"A.EWS_DaysToThreat\", \"4_RfR 2\"]\n",
    "\n",
    "# Performing the PRIM analysis\n",
    "prim_obj = prim.Prim(df_experiments, df_outcomes, threshold=0.2)\n",
    "box1 = prim_obj.find_box()\n",
    "\n",
    "# Printing the box statistics\n",
    "print(box1.stats())\n",
    "\n",
    "# Visualizing the box\n",
    "box1.show_tradeoff()\n",
    "plt.show()\n",
    "\n"
   ],
   "metadata": {
    "collapsed": false,
    "ExecuteTime": {
     "end_time": "2023-06-12T09:59:50.166435400Z",
     "start_time": "2023-06-12T09:59:50.127146200Z"
    }
   }
  },
  {
   "cell_type": "code",
   "execution_count": null,
   "outputs": [],
   "source": [],
   "metadata": {
    "collapsed": false
   }
  }
 ],
 "metadata": {
  "kernelspec": {
   "display_name": "Python 3",
   "language": "python",
   "name": "python3"
  },
  "language_info": {
   "codemirror_mode": {
    "name": "ipython",
    "version": 2
   },
   "file_extension": ".py",
   "mimetype": "text/x-python",
   "name": "python",
   "nbconvert_exporter": "python",
   "pygments_lexer": "ipython2",
   "version": "2.7.6"
  }
 },
 "nbformat": 4,
 "nbformat_minor": 0
}
